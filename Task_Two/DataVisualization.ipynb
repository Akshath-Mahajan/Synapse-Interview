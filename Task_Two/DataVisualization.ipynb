{
 "metadata": {
  "language_info": {
   "codemirror_mode": {
    "name": "ipython",
    "version": 3
   },
   "file_extension": ".py",
   "mimetype": "text/x-python",
   "name": "python",
   "nbconvert_exporter": "python",
   "pygments_lexer": "ipython3",
   "version": "3.8.5-final"
  },
  "orig_nbformat": 2,
  "kernelspec": {
   "name": "python_defaultSpec_1600410628858",
   "display_name": "Python 3.8.5 64-bit"
  }
 },
 "nbformat": 4,
 "nbformat_minor": 2,
 "cells": [
  {
   "source": [
    "# Data Cleaning And Visualisation Task\n",
    "\n",
    "## Loading in the data:\n",
    "We know that the json data provided to us is in the form:\n",
    " \n",
    "`{data: [{}, {}, {}, …, {}]}`\n",
    "\n",
    "So the first thing to do is to load the data in. This will be done using the `json` module in python"
   ],
   "cell_type": "markdown",
   "metadata": {}
  },
  {
   "cell_type": "code",
   "execution_count": 1,
   "metadata": {
    "tags": []
   },
   "outputs": [
    {
     "output_type": "execute_result",
     "data": {
      "text/plain": "{'category': 'Sports',\n 'event_name': 'View Project',\n 'gender': 'M',\n 'age': '18-24',\n 'marital_status': 'married',\n 'session_id': '69f62d2ae87640f5a2dde2b2e9229fe6',\n 'device': 'android',\n 'client_time': 1393632004,\n 'location': {'latitude': 40.189788,\n  'city': 'Lyons',\n  'state': 'CO',\n  'longitude': -105.35528,\n  'zip_code': '80540'}}"
     },
     "metadata": {},
     "execution_count": 1
    }
   ],
   "source": [
    "import pandas as pd\n",
    "import json\n",
    "\n",
    "fh = open('../data/tasktwo/data.json')\n",
    "alldata = json.load(fh)\n",
    "fh.close()\n",
    "alldata['data'][0]"
   ]
  },
  {
   "source": [
    "We can see what the first object in our data looks like above\n",
    "\n",
    "We have also imported the `pandas` module because we plan to convert the json data into a dataframe to process it further."
   ],
   "cell_type": "markdown",
   "metadata": {}
  },
  {
   "cell_type": "code",
   "execution_count": 2,
   "metadata": {},
   "outputs": [
    {
     "output_type": "execute_result",
     "data": {
      "text/plain": "          category    event_name gender    age marital_status  \\\n0           Sports  View Project      M  18-24        married   \n1       Technology  View Project      M  18-24         single   \n2      Environment  View Project      M    55+         single   \n3       Technology  View Project      M  18-24         single   \n4           Sports  View Project      F  25-34        married   \n...            ...           ...    ...    ...            ...   \n49995       Sports  Fund Project      F  18-24        married   \n49996   Technology  View Project      F  45-54         single   \n49997      Fashion  View Project      F  25-34         single   \n49998       Sports  Fund Project      F  35-44        married   \n49999      Fashion  View Project      M  18-24         single   \n\n                             session_id   device  client_time  \\\n0      69f62d2ae87640f5a2dde2b2e9229fe6  android   1393632004   \n1      4459d001feb8438eae5f4ec24abcd992      iOS   1393632022   \n2      0db9ed700a184d48a9d04806696e3642      iOS   1393632032   \n3      68195e2372bd4022b17220fc21de9138  android   1393632038   \n4      9508a8385dc94773baba8aa7d1c2aa75      iOS   1393632051   \n...                                 ...      ...          ...   \n49995  412b973788704c36a008a506cdbba033      iOS   1396309720   \n49996  4addd36a6f4347c59865fe04a92e8d57  android   1396309769   \n49997  3181a138a0b94d1da9a3d29f7816fcc7      iOS   1396309893   \n49998  2df6b9a0c66b48a389330327517b9276      iOS   1396309968   \n49999  fc24339bfda84ff29102981cbee78023      iOS   1396310325   \n\n                                                location  amount  \n0      {'latitude': 40.189788, 'city': 'Lyons', 'stat...     NaN  \n1      {'latitude': 33.844371, 'city': 'Alpharetta', ...     NaN  \n2      {'latitude': 42.446396, 'city': 'Westford', 's...     NaN  \n3      {'latitude': 44.624413, 'city': 'Saranac', 'st...     NaN  \n4      {'latitude': 36.747083, 'city': 'Lampe', 'stat...     NaN  \n...                                                  ...     ...  \n49995  {'latitude': 45.343615, 'city': 'West Linn', '...    35.0  \n49996  {'latitude': 41.079983, 'city': 'Greenwich', '...     NaN  \n49997  {'latitude': 40.36502, 'city': 'Irwin', 'state...     NaN  \n49998  {'latitude': 39.477625, 'city': 'Martinsville'...    37.0  \n49999  {'latitude': 45.408374, 'city': 'Lake Oswego',...     NaN  \n\n[50000 rows x 10 columns]",
      "text/html": "<div>\n<style scoped>\n    .dataframe tbody tr th:only-of-type {\n        vertical-align: middle;\n    }\n\n    .dataframe tbody tr th {\n        vertical-align: top;\n    }\n\n    .dataframe thead th {\n        text-align: right;\n    }\n</style>\n<table border=\"1\" class=\"dataframe\">\n  <thead>\n    <tr style=\"text-align: right;\">\n      <th></th>\n      <th>category</th>\n      <th>event_name</th>\n      <th>gender</th>\n      <th>age</th>\n      <th>marital_status</th>\n      <th>session_id</th>\n      <th>device</th>\n      <th>client_time</th>\n      <th>location</th>\n      <th>amount</th>\n    </tr>\n  </thead>\n  <tbody>\n    <tr>\n      <th>0</th>\n      <td>Sports</td>\n      <td>View Project</td>\n      <td>M</td>\n      <td>18-24</td>\n      <td>married</td>\n      <td>69f62d2ae87640f5a2dde2b2e9229fe6</td>\n      <td>android</td>\n      <td>1393632004</td>\n      <td>{'latitude': 40.189788, 'city': 'Lyons', 'stat...</td>\n      <td>NaN</td>\n    </tr>\n    <tr>\n      <th>1</th>\n      <td>Technology</td>\n      <td>View Project</td>\n      <td>M</td>\n      <td>18-24</td>\n      <td>single</td>\n      <td>4459d001feb8438eae5f4ec24abcd992</td>\n      <td>iOS</td>\n      <td>1393632022</td>\n      <td>{'latitude': 33.844371, 'city': 'Alpharetta', ...</td>\n      <td>NaN</td>\n    </tr>\n    <tr>\n      <th>2</th>\n      <td>Environment</td>\n      <td>View Project</td>\n      <td>M</td>\n      <td>55+</td>\n      <td>single</td>\n      <td>0db9ed700a184d48a9d04806696e3642</td>\n      <td>iOS</td>\n      <td>1393632032</td>\n      <td>{'latitude': 42.446396, 'city': 'Westford', 's...</td>\n      <td>NaN</td>\n    </tr>\n    <tr>\n      <th>3</th>\n      <td>Technology</td>\n      <td>View Project</td>\n      <td>M</td>\n      <td>18-24</td>\n      <td>single</td>\n      <td>68195e2372bd4022b17220fc21de9138</td>\n      <td>android</td>\n      <td>1393632038</td>\n      <td>{'latitude': 44.624413, 'city': 'Saranac', 'st...</td>\n      <td>NaN</td>\n    </tr>\n    <tr>\n      <th>4</th>\n      <td>Sports</td>\n      <td>View Project</td>\n      <td>F</td>\n      <td>25-34</td>\n      <td>married</td>\n      <td>9508a8385dc94773baba8aa7d1c2aa75</td>\n      <td>iOS</td>\n      <td>1393632051</td>\n      <td>{'latitude': 36.747083, 'city': 'Lampe', 'stat...</td>\n      <td>NaN</td>\n    </tr>\n    <tr>\n      <th>...</th>\n      <td>...</td>\n      <td>...</td>\n      <td>...</td>\n      <td>...</td>\n      <td>...</td>\n      <td>...</td>\n      <td>...</td>\n      <td>...</td>\n      <td>...</td>\n      <td>...</td>\n    </tr>\n    <tr>\n      <th>49995</th>\n      <td>Sports</td>\n      <td>Fund Project</td>\n      <td>F</td>\n      <td>18-24</td>\n      <td>married</td>\n      <td>412b973788704c36a008a506cdbba033</td>\n      <td>iOS</td>\n      <td>1396309720</td>\n      <td>{'latitude': 45.343615, 'city': 'West Linn', '...</td>\n      <td>35.0</td>\n    </tr>\n    <tr>\n      <th>49996</th>\n      <td>Technology</td>\n      <td>View Project</td>\n      <td>F</td>\n      <td>45-54</td>\n      <td>single</td>\n      <td>4addd36a6f4347c59865fe04a92e8d57</td>\n      <td>android</td>\n      <td>1396309769</td>\n      <td>{'latitude': 41.079983, 'city': 'Greenwich', '...</td>\n      <td>NaN</td>\n    </tr>\n    <tr>\n      <th>49997</th>\n      <td>Fashion</td>\n      <td>View Project</td>\n      <td>F</td>\n      <td>25-34</td>\n      <td>single</td>\n      <td>3181a138a0b94d1da9a3d29f7816fcc7</td>\n      <td>iOS</td>\n      <td>1396309893</td>\n      <td>{'latitude': 40.36502, 'city': 'Irwin', 'state...</td>\n      <td>NaN</td>\n    </tr>\n    <tr>\n      <th>49998</th>\n      <td>Sports</td>\n      <td>Fund Project</td>\n      <td>F</td>\n      <td>35-44</td>\n      <td>married</td>\n      <td>2df6b9a0c66b48a389330327517b9276</td>\n      <td>iOS</td>\n      <td>1396309968</td>\n      <td>{'latitude': 39.477625, 'city': 'Martinsville'...</td>\n      <td>37.0</td>\n    </tr>\n    <tr>\n      <th>49999</th>\n      <td>Fashion</td>\n      <td>View Project</td>\n      <td>M</td>\n      <td>18-24</td>\n      <td>single</td>\n      <td>fc24339bfda84ff29102981cbee78023</td>\n      <td>iOS</td>\n      <td>1396310325</td>\n      <td>{'latitude': 45.408374, 'city': 'Lake Oswego',...</td>\n      <td>NaN</td>\n    </tr>\n  </tbody>\n</table>\n<p>50000 rows × 10 columns</p>\n</div>"
     },
     "metadata": {},
     "execution_count": 2
    }
   ],
   "source": [
    "df = pd.DataFrame(alldata['data'])\n",
    "df"
   ]
  },
  {
   "source": [
    "## Cleaning the data\n",
    "The first criteria provided in the problem statement is that the bicycle project belongs to two categories\n",
    "- Sports\n",
    "- Environment\n",
    "\n",
    "So we can safely assume that the analytics data for any other category is redundant for our use case, and hence we can get rid of it.\n",
    "\n",
    "To do this, we create a boolean mask in pandas and apply it to our dataframe `df`"
   ],
   "cell_type": "markdown",
   "metadata": {}
  },
  {
   "cell_type": "code",
   "execution_count": 3,
   "metadata": {},
   "outputs": [
    {
     "output_type": "execute_result",
     "data": {
      "text/plain": "          category    event_name gender    age marital_status  \\\n0           Sports  View Project      M  18-24        married   \n2      Environment  View Project      M    55+         single   \n4           Sports  View Project      F  25-34        married   \n12          Sports  View Project      F  18-24        married   \n16          Sports  Fund Project      M  18-24        married   \n...            ...           ...    ...    ...            ...   \n49984  Environment  Fund Project      M  18-24        married   \n49989       Sports  Fund Project      M  18-24         single   \n49994  Environment  Fund Project      F  35-44         single   \n49995       Sports  Fund Project      F  18-24        married   \n49998       Sports  Fund Project      F  35-44        married   \n\n                             session_id   device  client_time  \\\n0      69f62d2ae87640f5a2dde2b2e9229fe6  android   1393632004   \n2      0db9ed700a184d48a9d04806696e3642      iOS   1393632032   \n4      9508a8385dc94773baba8aa7d1c2aa75      iOS   1393632051   \n12     a1fdfe0bebed4510a9059bcfb3ba1325      iOS   1393632171   \n16     69f62d2ae87640f5a2dde2b2e9229fe6  android   1393632200   \n...                                 ...      ...          ...   \n49984  584713f5385a4ce2b881e877f1fa9a80  android   1396308722   \n49989  4829aa471c6b431fa023076746f7476f      iOS   1396309022   \n49994  dbe304febcd94d768740237f37e918cd  android   1396309700   \n49995  412b973788704c36a008a506cdbba033      iOS   1396309720   \n49998  2df6b9a0c66b48a389330327517b9276      iOS   1396309968   \n\n                                                location  amount  \n0      {'latitude': 40.189788, 'city': 'Lyons', 'stat...     NaN  \n2      {'latitude': 42.446396, 'city': 'Westford', 's...     NaN  \n4      {'latitude': 36.747083, 'city': 'Lampe', 'stat...     NaN  \n12     {'latitude': 33.794055, 'city': 'Atlanta', 'st...     NaN  \n16     {'latitude': 40.189788, 'city': 'Lyons', 'stat...    31.0  \n...                                                  ...     ...  \n49984  {'latitude': 33.760505, 'city': 'Atlanta', 'st...    23.0  \n49989  {'latitude': 39.872535, 'city': 'Westminster',...    37.0  \n49994  {'latitude': 27.457947, 'city': 'Sebring', 'st...    35.0  \n49995  {'latitude': 45.343615, 'city': 'West Linn', '...    35.0  \n49998  {'latitude': 39.477625, 'city': 'Martinsville'...    37.0  \n\n[20079 rows x 10 columns]",
      "text/html": "<div>\n<style scoped>\n    .dataframe tbody tr th:only-of-type {\n        vertical-align: middle;\n    }\n\n    .dataframe tbody tr th {\n        vertical-align: top;\n    }\n\n    .dataframe thead th {\n        text-align: right;\n    }\n</style>\n<table border=\"1\" class=\"dataframe\">\n  <thead>\n    <tr style=\"text-align: right;\">\n      <th></th>\n      <th>category</th>\n      <th>event_name</th>\n      <th>gender</th>\n      <th>age</th>\n      <th>marital_status</th>\n      <th>session_id</th>\n      <th>device</th>\n      <th>client_time</th>\n      <th>location</th>\n      <th>amount</th>\n    </tr>\n  </thead>\n  <tbody>\n    <tr>\n      <th>0</th>\n      <td>Sports</td>\n      <td>View Project</td>\n      <td>M</td>\n      <td>18-24</td>\n      <td>married</td>\n      <td>69f62d2ae87640f5a2dde2b2e9229fe6</td>\n      <td>android</td>\n      <td>1393632004</td>\n      <td>{'latitude': 40.189788, 'city': 'Lyons', 'stat...</td>\n      <td>NaN</td>\n    </tr>\n    <tr>\n      <th>2</th>\n      <td>Environment</td>\n      <td>View Project</td>\n      <td>M</td>\n      <td>55+</td>\n      <td>single</td>\n      <td>0db9ed700a184d48a9d04806696e3642</td>\n      <td>iOS</td>\n      <td>1393632032</td>\n      <td>{'latitude': 42.446396, 'city': 'Westford', 's...</td>\n      <td>NaN</td>\n    </tr>\n    <tr>\n      <th>4</th>\n      <td>Sports</td>\n      <td>View Project</td>\n      <td>F</td>\n      <td>25-34</td>\n      <td>married</td>\n      <td>9508a8385dc94773baba8aa7d1c2aa75</td>\n      <td>iOS</td>\n      <td>1393632051</td>\n      <td>{'latitude': 36.747083, 'city': 'Lampe', 'stat...</td>\n      <td>NaN</td>\n    </tr>\n    <tr>\n      <th>12</th>\n      <td>Sports</td>\n      <td>View Project</td>\n      <td>F</td>\n      <td>18-24</td>\n      <td>married</td>\n      <td>a1fdfe0bebed4510a9059bcfb3ba1325</td>\n      <td>iOS</td>\n      <td>1393632171</td>\n      <td>{'latitude': 33.794055, 'city': 'Atlanta', 'st...</td>\n      <td>NaN</td>\n    </tr>\n    <tr>\n      <th>16</th>\n      <td>Sports</td>\n      <td>Fund Project</td>\n      <td>M</td>\n      <td>18-24</td>\n      <td>married</td>\n      <td>69f62d2ae87640f5a2dde2b2e9229fe6</td>\n      <td>android</td>\n      <td>1393632200</td>\n      <td>{'latitude': 40.189788, 'city': 'Lyons', 'stat...</td>\n      <td>31.0</td>\n    </tr>\n    <tr>\n      <th>...</th>\n      <td>...</td>\n      <td>...</td>\n      <td>...</td>\n      <td>...</td>\n      <td>...</td>\n      <td>...</td>\n      <td>...</td>\n      <td>...</td>\n      <td>...</td>\n      <td>...</td>\n    </tr>\n    <tr>\n      <th>49984</th>\n      <td>Environment</td>\n      <td>Fund Project</td>\n      <td>M</td>\n      <td>18-24</td>\n      <td>married</td>\n      <td>584713f5385a4ce2b881e877f1fa9a80</td>\n      <td>android</td>\n      <td>1396308722</td>\n      <td>{'latitude': 33.760505, 'city': 'Atlanta', 'st...</td>\n      <td>23.0</td>\n    </tr>\n    <tr>\n      <th>49989</th>\n      <td>Sports</td>\n      <td>Fund Project</td>\n      <td>M</td>\n      <td>18-24</td>\n      <td>single</td>\n      <td>4829aa471c6b431fa023076746f7476f</td>\n      <td>iOS</td>\n      <td>1396309022</td>\n      <td>{'latitude': 39.872535, 'city': 'Westminster',...</td>\n      <td>37.0</td>\n    </tr>\n    <tr>\n      <th>49994</th>\n      <td>Environment</td>\n      <td>Fund Project</td>\n      <td>F</td>\n      <td>35-44</td>\n      <td>single</td>\n      <td>dbe304febcd94d768740237f37e918cd</td>\n      <td>android</td>\n      <td>1396309700</td>\n      <td>{'latitude': 27.457947, 'city': 'Sebring', 'st...</td>\n      <td>35.0</td>\n    </tr>\n    <tr>\n      <th>49995</th>\n      <td>Sports</td>\n      <td>Fund Project</td>\n      <td>F</td>\n      <td>18-24</td>\n      <td>married</td>\n      <td>412b973788704c36a008a506cdbba033</td>\n      <td>iOS</td>\n      <td>1396309720</td>\n      <td>{'latitude': 45.343615, 'city': 'West Linn', '...</td>\n      <td>35.0</td>\n    </tr>\n    <tr>\n      <th>49998</th>\n      <td>Sports</td>\n      <td>Fund Project</td>\n      <td>F</td>\n      <td>35-44</td>\n      <td>married</td>\n      <td>2df6b9a0c66b48a389330327517b9276</td>\n      <td>iOS</td>\n      <td>1396309968</td>\n      <td>{'latitude': 39.477625, 'city': 'Martinsville'...</td>\n      <td>37.0</td>\n    </tr>\n  </tbody>\n</table>\n<p>20079 rows × 10 columns</p>\n</div>"
     },
     "metadata": {},
     "execution_count": 3
    }
   ],
   "source": [
    "mask = (df['category'] == \"Sports\")|(df['category'] == \"Environment\")\n",
    "df = df[mask]\n",
    "df"
   ]
  },
  {
   "source": [
    "We can see now that we have successfully narrowed down our dataframe to 20079 rows from 50000 rows!\n",
    "\n",
    "Our next step is going to be to try and drop the `event_name` column."
   ],
   "cell_type": "markdown",
   "metadata": {}
  },
  {
   "cell_type": "code",
   "execution_count": 4,
   "metadata": {},
   "outputs": [
    {
     "output_type": "execute_result",
     "data": {
      "text/plain": "0"
     },
     "metadata": {},
     "execution_count": 4
    }
   ],
   "source": [
    "masktemp = df['amount'] == 0\n",
    "masktemp.sum() #Sum of bool mask is num of trues in the mask"
   ]
  },
  {
   "source": [
    "As we can see there are no people who have funded a project with amount = 0.\n",
    "\n",
    "So we can treat the people who have only viewed the project as people who have funded the project with amount = 0, and drop the `event_name` column altogether."
   ],
   "cell_type": "markdown",
   "metadata": {}
  },
  {
   "cell_type": "code",
   "execution_count": 5,
   "metadata": {},
   "outputs": [
    {
     "output_type": "execute_result",
     "data": {
      "text/plain": "          category gender    age marital_status  \\\n0           Sports      M  18-24        married   \n2      Environment      M    55+         single   \n4           Sports      F  25-34        married   \n12          Sports      F  18-24        married   \n16          Sports      M  18-24        married   \n...            ...    ...    ...            ...   \n49984  Environment      M  18-24        married   \n49989       Sports      M  18-24         single   \n49994  Environment      F  35-44         single   \n49995       Sports      F  18-24        married   \n49998       Sports      F  35-44        married   \n\n                             session_id   device  client_time  \\\n0      69f62d2ae87640f5a2dde2b2e9229fe6  android   1393632004   \n2      0db9ed700a184d48a9d04806696e3642      iOS   1393632032   \n4      9508a8385dc94773baba8aa7d1c2aa75      iOS   1393632051   \n12     a1fdfe0bebed4510a9059bcfb3ba1325      iOS   1393632171   \n16     69f62d2ae87640f5a2dde2b2e9229fe6  android   1393632200   \n...                                 ...      ...          ...   \n49984  584713f5385a4ce2b881e877f1fa9a80  android   1396308722   \n49989  4829aa471c6b431fa023076746f7476f      iOS   1396309022   \n49994  dbe304febcd94d768740237f37e918cd  android   1396309700   \n49995  412b973788704c36a008a506cdbba033      iOS   1396309720   \n49998  2df6b9a0c66b48a389330327517b9276      iOS   1396309968   \n\n                                                location  amount  \n0      {'latitude': 40.189788, 'city': 'Lyons', 'stat...     0.0  \n2      {'latitude': 42.446396, 'city': 'Westford', 's...     0.0  \n4      {'latitude': 36.747083, 'city': 'Lampe', 'stat...     0.0  \n12     {'latitude': 33.794055, 'city': 'Atlanta', 'st...     0.0  \n16     {'latitude': 40.189788, 'city': 'Lyons', 'stat...    31.0  \n...                                                  ...     ...  \n49984  {'latitude': 33.760505, 'city': 'Atlanta', 'st...    23.0  \n49989  {'latitude': 39.872535, 'city': 'Westminster',...    37.0  \n49994  {'latitude': 27.457947, 'city': 'Sebring', 'st...    35.0  \n49995  {'latitude': 45.343615, 'city': 'West Linn', '...    35.0  \n49998  {'latitude': 39.477625, 'city': 'Martinsville'...    37.0  \n\n[20079 rows x 9 columns]",
      "text/html": "<div>\n<style scoped>\n    .dataframe tbody tr th:only-of-type {\n        vertical-align: middle;\n    }\n\n    .dataframe tbody tr th {\n        vertical-align: top;\n    }\n\n    .dataframe thead th {\n        text-align: right;\n    }\n</style>\n<table border=\"1\" class=\"dataframe\">\n  <thead>\n    <tr style=\"text-align: right;\">\n      <th></th>\n      <th>category</th>\n      <th>gender</th>\n      <th>age</th>\n      <th>marital_status</th>\n      <th>session_id</th>\n      <th>device</th>\n      <th>client_time</th>\n      <th>location</th>\n      <th>amount</th>\n    </tr>\n  </thead>\n  <tbody>\n    <tr>\n      <th>0</th>\n      <td>Sports</td>\n      <td>M</td>\n      <td>18-24</td>\n      <td>married</td>\n      <td>69f62d2ae87640f5a2dde2b2e9229fe6</td>\n      <td>android</td>\n      <td>1393632004</td>\n      <td>{'latitude': 40.189788, 'city': 'Lyons', 'stat...</td>\n      <td>0.0</td>\n    </tr>\n    <tr>\n      <th>2</th>\n      <td>Environment</td>\n      <td>M</td>\n      <td>55+</td>\n      <td>single</td>\n      <td>0db9ed700a184d48a9d04806696e3642</td>\n      <td>iOS</td>\n      <td>1393632032</td>\n      <td>{'latitude': 42.446396, 'city': 'Westford', 's...</td>\n      <td>0.0</td>\n    </tr>\n    <tr>\n      <th>4</th>\n      <td>Sports</td>\n      <td>F</td>\n      <td>25-34</td>\n      <td>married</td>\n      <td>9508a8385dc94773baba8aa7d1c2aa75</td>\n      <td>iOS</td>\n      <td>1393632051</td>\n      <td>{'latitude': 36.747083, 'city': 'Lampe', 'stat...</td>\n      <td>0.0</td>\n    </tr>\n    <tr>\n      <th>12</th>\n      <td>Sports</td>\n      <td>F</td>\n      <td>18-24</td>\n      <td>married</td>\n      <td>a1fdfe0bebed4510a9059bcfb3ba1325</td>\n      <td>iOS</td>\n      <td>1393632171</td>\n      <td>{'latitude': 33.794055, 'city': 'Atlanta', 'st...</td>\n      <td>0.0</td>\n    </tr>\n    <tr>\n      <th>16</th>\n      <td>Sports</td>\n      <td>M</td>\n      <td>18-24</td>\n      <td>married</td>\n      <td>69f62d2ae87640f5a2dde2b2e9229fe6</td>\n      <td>android</td>\n      <td>1393632200</td>\n      <td>{'latitude': 40.189788, 'city': 'Lyons', 'stat...</td>\n      <td>31.0</td>\n    </tr>\n    <tr>\n      <th>...</th>\n      <td>...</td>\n      <td>...</td>\n      <td>...</td>\n      <td>...</td>\n      <td>...</td>\n      <td>...</td>\n      <td>...</td>\n      <td>...</td>\n      <td>...</td>\n    </tr>\n    <tr>\n      <th>49984</th>\n      <td>Environment</td>\n      <td>M</td>\n      <td>18-24</td>\n      <td>married</td>\n      <td>584713f5385a4ce2b881e877f1fa9a80</td>\n      <td>android</td>\n      <td>1396308722</td>\n      <td>{'latitude': 33.760505, 'city': 'Atlanta', 'st...</td>\n      <td>23.0</td>\n    </tr>\n    <tr>\n      <th>49989</th>\n      <td>Sports</td>\n      <td>M</td>\n      <td>18-24</td>\n      <td>single</td>\n      <td>4829aa471c6b431fa023076746f7476f</td>\n      <td>iOS</td>\n      <td>1396309022</td>\n      <td>{'latitude': 39.872535, 'city': 'Westminster',...</td>\n      <td>37.0</td>\n    </tr>\n    <tr>\n      <th>49994</th>\n      <td>Environment</td>\n      <td>F</td>\n      <td>35-44</td>\n      <td>single</td>\n      <td>dbe304febcd94d768740237f37e918cd</td>\n      <td>android</td>\n      <td>1396309700</td>\n      <td>{'latitude': 27.457947, 'city': 'Sebring', 'st...</td>\n      <td>35.0</td>\n    </tr>\n    <tr>\n      <th>49995</th>\n      <td>Sports</td>\n      <td>F</td>\n      <td>18-24</td>\n      <td>married</td>\n      <td>412b973788704c36a008a506cdbba033</td>\n      <td>iOS</td>\n      <td>1396309720</td>\n      <td>{'latitude': 45.343615, 'city': 'West Linn', '...</td>\n      <td>35.0</td>\n    </tr>\n    <tr>\n      <th>49998</th>\n      <td>Sports</td>\n      <td>F</td>\n      <td>35-44</td>\n      <td>married</td>\n      <td>2df6b9a0c66b48a389330327517b9276</td>\n      <td>iOS</td>\n      <td>1396309968</td>\n      <td>{'latitude': 39.477625, 'city': 'Martinsville'...</td>\n      <td>37.0</td>\n    </tr>\n  </tbody>\n</table>\n<p>20079 rows × 9 columns</p>\n</div>"
     },
     "metadata": {},
     "execution_count": 5
    }
   ],
   "source": [
    "df['amount'] = df['amount'].fillna(0)\n",
    "df = df.drop(columns=['event_name'])\n",
    "df"
   ]
  },
  {
   "source": [
    "We can also consider dropping the `category` column as well, since both categories are of equal interest to us."
   ],
   "cell_type": "markdown",
   "metadata": {}
  },
  {
   "cell_type": "code",
   "execution_count": 6,
   "metadata": {},
   "outputs": [
    {
     "output_type": "execute_result",
     "data": {
      "text/plain": "      gender    age marital_status                        session_id   device  \\\n0          M  18-24        married  69f62d2ae87640f5a2dde2b2e9229fe6  android   \n2          M    55+         single  0db9ed700a184d48a9d04806696e3642      iOS   \n4          F  25-34        married  9508a8385dc94773baba8aa7d1c2aa75      iOS   \n12         F  18-24        married  a1fdfe0bebed4510a9059bcfb3ba1325      iOS   \n16         M  18-24        married  69f62d2ae87640f5a2dde2b2e9229fe6  android   \n...      ...    ...            ...                               ...      ...   \n49984      M  18-24        married  584713f5385a4ce2b881e877f1fa9a80  android   \n49989      M  18-24         single  4829aa471c6b431fa023076746f7476f      iOS   \n49994      F  35-44         single  dbe304febcd94d768740237f37e918cd  android   \n49995      F  18-24        married  412b973788704c36a008a506cdbba033      iOS   \n49998      F  35-44        married  2df6b9a0c66b48a389330327517b9276      iOS   \n\n       client_time                                           location  amount  \n0       1393632004  {'latitude': 40.189788, 'city': 'Lyons', 'stat...     0.0  \n2       1393632032  {'latitude': 42.446396, 'city': 'Westford', 's...     0.0  \n4       1393632051  {'latitude': 36.747083, 'city': 'Lampe', 'stat...     0.0  \n12      1393632171  {'latitude': 33.794055, 'city': 'Atlanta', 'st...     0.0  \n16      1393632200  {'latitude': 40.189788, 'city': 'Lyons', 'stat...    31.0  \n...            ...                                                ...     ...  \n49984   1396308722  {'latitude': 33.760505, 'city': 'Atlanta', 'st...    23.0  \n49989   1396309022  {'latitude': 39.872535, 'city': 'Westminster',...    37.0  \n49994   1396309700  {'latitude': 27.457947, 'city': 'Sebring', 'st...    35.0  \n49995   1396309720  {'latitude': 45.343615, 'city': 'West Linn', '...    35.0  \n49998   1396309968  {'latitude': 39.477625, 'city': 'Martinsville'...    37.0  \n\n[20079 rows x 8 columns]",
      "text/html": "<div>\n<style scoped>\n    .dataframe tbody tr th:only-of-type {\n        vertical-align: middle;\n    }\n\n    .dataframe tbody tr th {\n        vertical-align: top;\n    }\n\n    .dataframe thead th {\n        text-align: right;\n    }\n</style>\n<table border=\"1\" class=\"dataframe\">\n  <thead>\n    <tr style=\"text-align: right;\">\n      <th></th>\n      <th>gender</th>\n      <th>age</th>\n      <th>marital_status</th>\n      <th>session_id</th>\n      <th>device</th>\n      <th>client_time</th>\n      <th>location</th>\n      <th>amount</th>\n    </tr>\n  </thead>\n  <tbody>\n    <tr>\n      <th>0</th>\n      <td>M</td>\n      <td>18-24</td>\n      <td>married</td>\n      <td>69f62d2ae87640f5a2dde2b2e9229fe6</td>\n      <td>android</td>\n      <td>1393632004</td>\n      <td>{'latitude': 40.189788, 'city': 'Lyons', 'stat...</td>\n      <td>0.0</td>\n    </tr>\n    <tr>\n      <th>2</th>\n      <td>M</td>\n      <td>55+</td>\n      <td>single</td>\n      <td>0db9ed700a184d48a9d04806696e3642</td>\n      <td>iOS</td>\n      <td>1393632032</td>\n      <td>{'latitude': 42.446396, 'city': 'Westford', 's...</td>\n      <td>0.0</td>\n    </tr>\n    <tr>\n      <th>4</th>\n      <td>F</td>\n      <td>25-34</td>\n      <td>married</td>\n      <td>9508a8385dc94773baba8aa7d1c2aa75</td>\n      <td>iOS</td>\n      <td>1393632051</td>\n      <td>{'latitude': 36.747083, 'city': 'Lampe', 'stat...</td>\n      <td>0.0</td>\n    </tr>\n    <tr>\n      <th>12</th>\n      <td>F</td>\n      <td>18-24</td>\n      <td>married</td>\n      <td>a1fdfe0bebed4510a9059bcfb3ba1325</td>\n      <td>iOS</td>\n      <td>1393632171</td>\n      <td>{'latitude': 33.794055, 'city': 'Atlanta', 'st...</td>\n      <td>0.0</td>\n    </tr>\n    <tr>\n      <th>16</th>\n      <td>M</td>\n      <td>18-24</td>\n      <td>married</td>\n      <td>69f62d2ae87640f5a2dde2b2e9229fe6</td>\n      <td>android</td>\n      <td>1393632200</td>\n      <td>{'latitude': 40.189788, 'city': 'Lyons', 'stat...</td>\n      <td>31.0</td>\n    </tr>\n    <tr>\n      <th>...</th>\n      <td>...</td>\n      <td>...</td>\n      <td>...</td>\n      <td>...</td>\n      <td>...</td>\n      <td>...</td>\n      <td>...</td>\n      <td>...</td>\n    </tr>\n    <tr>\n      <th>49984</th>\n      <td>M</td>\n      <td>18-24</td>\n      <td>married</td>\n      <td>584713f5385a4ce2b881e877f1fa9a80</td>\n      <td>android</td>\n      <td>1396308722</td>\n      <td>{'latitude': 33.760505, 'city': 'Atlanta', 'st...</td>\n      <td>23.0</td>\n    </tr>\n    <tr>\n      <th>49989</th>\n      <td>M</td>\n      <td>18-24</td>\n      <td>single</td>\n      <td>4829aa471c6b431fa023076746f7476f</td>\n      <td>iOS</td>\n      <td>1396309022</td>\n      <td>{'latitude': 39.872535, 'city': 'Westminster',...</td>\n      <td>37.0</td>\n    </tr>\n    <tr>\n      <th>49994</th>\n      <td>F</td>\n      <td>35-44</td>\n      <td>single</td>\n      <td>dbe304febcd94d768740237f37e918cd</td>\n      <td>android</td>\n      <td>1396309700</td>\n      <td>{'latitude': 27.457947, 'city': 'Sebring', 'st...</td>\n      <td>35.0</td>\n    </tr>\n    <tr>\n      <th>49995</th>\n      <td>F</td>\n      <td>18-24</td>\n      <td>married</td>\n      <td>412b973788704c36a008a506cdbba033</td>\n      <td>iOS</td>\n      <td>1396309720</td>\n      <td>{'latitude': 45.343615, 'city': 'West Linn', '...</td>\n      <td>35.0</td>\n    </tr>\n    <tr>\n      <th>49998</th>\n      <td>F</td>\n      <td>35-44</td>\n      <td>married</td>\n      <td>2df6b9a0c66b48a389330327517b9276</td>\n      <td>iOS</td>\n      <td>1396309968</td>\n      <td>{'latitude': 39.477625, 'city': 'Martinsville'...</td>\n      <td>37.0</td>\n    </tr>\n  </tbody>\n</table>\n<p>20079 rows × 8 columns</p>\n</div>"
     },
     "metadata": {},
     "execution_count": 6
    }
   ],
   "source": [
    "df = df.drop(columns=['category'])\n",
    "df"
   ]
  },
  {
   "source": [
    "Now if we take a closer look, we observe that one user has made multiple entries in the dataframe, and each of these entries is differentiated by its timestamp. This can be easily shown by executing the cell below:"
   ],
   "cell_type": "markdown",
   "metadata": {}
  },
  {
   "cell_type": "code",
   "execution_count": 7,
   "metadata": {},
   "outputs": [
    {
     "output_type": "execute_result",
     "data": {
      "text/plain": "(12961, 0)"
     },
     "metadata": {},
     "execution_count": 7
    }
   ],
   "source": [
    "df.duplicated(['session_id']).sum(), df.duplicated(['session_id', 'client_time']).sum()"
   ]
  },
  {
   "source": [
    "This is probably a good time to unfold our `location` column. We left it as a dictionary uptil now, but we can't group unhashable types of data. So we will open up the `location` dictionary into multiple columns. "
   ],
   "cell_type": "markdown",
   "metadata": {}
  },
  {
   "cell_type": "code",
   "execution_count": 8,
   "metadata": {},
   "outputs": [
    {
     "output_type": "execute_result",
     "data": {
      "text/plain": "        latitude          city state   longitude zip_code\n0      40.189788         Lyons    CO -105.355280    80540\n1      42.446396      Westford    MA  -71.459405    01886\n2      36.747083         Lampe    MO  -93.458626    65681\n3      33.794055       Atlanta    GA  -84.377326    30308\n4      40.189788         Lyons    CO -105.355280    80540\n...          ...           ...   ...         ...      ...\n20074  33.760505       Atlanta    GA  -84.399626    30313\n20075  39.872535   Westminster    CO -105.034487    80030\n20076  27.457947       Sebring    FL  -81.373012    33870\n20077  45.343615     West Linn    OR -122.664926    97068\n20078  39.477625  Martinsville    IN  -86.466792    46151\n\n[20079 rows x 5 columns]",
      "text/html": "<div>\n<style scoped>\n    .dataframe tbody tr th:only-of-type {\n        vertical-align: middle;\n    }\n\n    .dataframe tbody tr th {\n        vertical-align: top;\n    }\n\n    .dataframe thead th {\n        text-align: right;\n    }\n</style>\n<table border=\"1\" class=\"dataframe\">\n  <thead>\n    <tr style=\"text-align: right;\">\n      <th></th>\n      <th>latitude</th>\n      <th>city</th>\n      <th>state</th>\n      <th>longitude</th>\n      <th>zip_code</th>\n    </tr>\n  </thead>\n  <tbody>\n    <tr>\n      <th>0</th>\n      <td>40.189788</td>\n      <td>Lyons</td>\n      <td>CO</td>\n      <td>-105.355280</td>\n      <td>80540</td>\n    </tr>\n    <tr>\n      <th>1</th>\n      <td>42.446396</td>\n      <td>Westford</td>\n      <td>MA</td>\n      <td>-71.459405</td>\n      <td>01886</td>\n    </tr>\n    <tr>\n      <th>2</th>\n      <td>36.747083</td>\n      <td>Lampe</td>\n      <td>MO</td>\n      <td>-93.458626</td>\n      <td>65681</td>\n    </tr>\n    <tr>\n      <th>3</th>\n      <td>33.794055</td>\n      <td>Atlanta</td>\n      <td>GA</td>\n      <td>-84.377326</td>\n      <td>30308</td>\n    </tr>\n    <tr>\n      <th>4</th>\n      <td>40.189788</td>\n      <td>Lyons</td>\n      <td>CO</td>\n      <td>-105.355280</td>\n      <td>80540</td>\n    </tr>\n    <tr>\n      <th>...</th>\n      <td>...</td>\n      <td>...</td>\n      <td>...</td>\n      <td>...</td>\n      <td>...</td>\n    </tr>\n    <tr>\n      <th>20074</th>\n      <td>33.760505</td>\n      <td>Atlanta</td>\n      <td>GA</td>\n      <td>-84.399626</td>\n      <td>30313</td>\n    </tr>\n    <tr>\n      <th>20075</th>\n      <td>39.872535</td>\n      <td>Westminster</td>\n      <td>CO</td>\n      <td>-105.034487</td>\n      <td>80030</td>\n    </tr>\n    <tr>\n      <th>20076</th>\n      <td>27.457947</td>\n      <td>Sebring</td>\n      <td>FL</td>\n      <td>-81.373012</td>\n      <td>33870</td>\n    </tr>\n    <tr>\n      <th>20077</th>\n      <td>45.343615</td>\n      <td>West Linn</td>\n      <td>OR</td>\n      <td>-122.664926</td>\n      <td>97068</td>\n    </tr>\n    <tr>\n      <th>20078</th>\n      <td>39.477625</td>\n      <td>Martinsville</td>\n      <td>IN</td>\n      <td>-86.466792</td>\n      <td>46151</td>\n    </tr>\n  </tbody>\n</table>\n<p>20079 rows × 5 columns</p>\n</div>"
     },
     "metadata": {},
     "execution_count": 8
    }
   ],
   "source": [
    "locdf = pd.json_normalize(df['location']) #Faster as compared to df['location'].apply(pd.Series)\n",
    "locdf"
   ]
  },
  {
   "cell_type": "code",
   "execution_count": 9,
   "metadata": {},
   "outputs": [
    {
     "output_type": "execute_result",
     "data": {
      "text/plain": "      gender    age marital_status                        session_id   device  \\\n0          M  18-24        married  69f62d2ae87640f5a2dde2b2e9229fe6  android   \n2          M    55+         single  0db9ed700a184d48a9d04806696e3642      iOS   \n4          F  25-34        married  9508a8385dc94773baba8aa7d1c2aa75      iOS   \n12         F  18-24        married  a1fdfe0bebed4510a9059bcfb3ba1325      iOS   \n16         M  18-24        married  69f62d2ae87640f5a2dde2b2e9229fe6  android   \n...      ...    ...            ...                               ...      ...   \n49984      M  18-24        married  584713f5385a4ce2b881e877f1fa9a80  android   \n49989      M  18-24         single  4829aa471c6b431fa023076746f7476f      iOS   \n49994      F  35-44         single  dbe304febcd94d768740237f37e918cd  android   \n49995      F  18-24        married  412b973788704c36a008a506cdbba033      iOS   \n49998      F  35-44        married  2df6b9a0c66b48a389330327517b9276      iOS   \n\n       client_time  amount   latitude          city state   longitude zip_code  \n0       1393632004     0.0  40.189788         Lyons    CO -105.355280    80540  \n2       1393632032     0.0  42.446396      Westford    MA  -71.459405    01886  \n4       1393632051     0.0  36.747083         Lampe    MO  -93.458626    65681  \n12      1393632171     0.0  33.794055       Atlanta    GA  -84.377326    30308  \n16      1393632200    31.0  40.189788         Lyons    CO -105.355280    80540  \n...            ...     ...        ...           ...   ...         ...      ...  \n49984   1396308722    23.0  33.760505       Atlanta    GA  -84.399626    30313  \n49989   1396309022    37.0  39.872535   Westminster    CO -105.034487    80030  \n49994   1396309700    35.0  27.457947       Sebring    FL  -81.373012    33870  \n49995   1396309720    35.0  45.343615     West Linn    OR -122.664926    97068  \n49998   1396309968    37.0  39.477625  Martinsville    IN  -86.466792    46151  \n\n[20079 rows x 12 columns]",
      "text/html": "<div>\n<style scoped>\n    .dataframe tbody tr th:only-of-type {\n        vertical-align: middle;\n    }\n\n    .dataframe tbody tr th {\n        vertical-align: top;\n    }\n\n    .dataframe thead th {\n        text-align: right;\n    }\n</style>\n<table border=\"1\" class=\"dataframe\">\n  <thead>\n    <tr style=\"text-align: right;\">\n      <th></th>\n      <th>gender</th>\n      <th>age</th>\n      <th>marital_status</th>\n      <th>session_id</th>\n      <th>device</th>\n      <th>client_time</th>\n      <th>amount</th>\n      <th>latitude</th>\n      <th>city</th>\n      <th>state</th>\n      <th>longitude</th>\n      <th>zip_code</th>\n    </tr>\n  </thead>\n  <tbody>\n    <tr>\n      <th>0</th>\n      <td>M</td>\n      <td>18-24</td>\n      <td>married</td>\n      <td>69f62d2ae87640f5a2dde2b2e9229fe6</td>\n      <td>android</td>\n      <td>1393632004</td>\n      <td>0.0</td>\n      <td>40.189788</td>\n      <td>Lyons</td>\n      <td>CO</td>\n      <td>-105.355280</td>\n      <td>80540</td>\n    </tr>\n    <tr>\n      <th>2</th>\n      <td>M</td>\n      <td>55+</td>\n      <td>single</td>\n      <td>0db9ed700a184d48a9d04806696e3642</td>\n      <td>iOS</td>\n      <td>1393632032</td>\n      <td>0.0</td>\n      <td>42.446396</td>\n      <td>Westford</td>\n      <td>MA</td>\n      <td>-71.459405</td>\n      <td>01886</td>\n    </tr>\n    <tr>\n      <th>4</th>\n      <td>F</td>\n      <td>25-34</td>\n      <td>married</td>\n      <td>9508a8385dc94773baba8aa7d1c2aa75</td>\n      <td>iOS</td>\n      <td>1393632051</td>\n      <td>0.0</td>\n      <td>36.747083</td>\n      <td>Lampe</td>\n      <td>MO</td>\n      <td>-93.458626</td>\n      <td>65681</td>\n    </tr>\n    <tr>\n      <th>12</th>\n      <td>F</td>\n      <td>18-24</td>\n      <td>married</td>\n      <td>a1fdfe0bebed4510a9059bcfb3ba1325</td>\n      <td>iOS</td>\n      <td>1393632171</td>\n      <td>0.0</td>\n      <td>33.794055</td>\n      <td>Atlanta</td>\n      <td>GA</td>\n      <td>-84.377326</td>\n      <td>30308</td>\n    </tr>\n    <tr>\n      <th>16</th>\n      <td>M</td>\n      <td>18-24</td>\n      <td>married</td>\n      <td>69f62d2ae87640f5a2dde2b2e9229fe6</td>\n      <td>android</td>\n      <td>1393632200</td>\n      <td>31.0</td>\n      <td>40.189788</td>\n      <td>Lyons</td>\n      <td>CO</td>\n      <td>-105.355280</td>\n      <td>80540</td>\n    </tr>\n    <tr>\n      <th>...</th>\n      <td>...</td>\n      <td>...</td>\n      <td>...</td>\n      <td>...</td>\n      <td>...</td>\n      <td>...</td>\n      <td>...</td>\n      <td>...</td>\n      <td>...</td>\n      <td>...</td>\n      <td>...</td>\n      <td>...</td>\n    </tr>\n    <tr>\n      <th>49984</th>\n      <td>M</td>\n      <td>18-24</td>\n      <td>married</td>\n      <td>584713f5385a4ce2b881e877f1fa9a80</td>\n      <td>android</td>\n      <td>1396308722</td>\n      <td>23.0</td>\n      <td>33.760505</td>\n      <td>Atlanta</td>\n      <td>GA</td>\n      <td>-84.399626</td>\n      <td>30313</td>\n    </tr>\n    <tr>\n      <th>49989</th>\n      <td>M</td>\n      <td>18-24</td>\n      <td>single</td>\n      <td>4829aa471c6b431fa023076746f7476f</td>\n      <td>iOS</td>\n      <td>1396309022</td>\n      <td>37.0</td>\n      <td>39.872535</td>\n      <td>Westminster</td>\n      <td>CO</td>\n      <td>-105.034487</td>\n      <td>80030</td>\n    </tr>\n    <tr>\n      <th>49994</th>\n      <td>F</td>\n      <td>35-44</td>\n      <td>single</td>\n      <td>dbe304febcd94d768740237f37e918cd</td>\n      <td>android</td>\n      <td>1396309700</td>\n      <td>35.0</td>\n      <td>27.457947</td>\n      <td>Sebring</td>\n      <td>FL</td>\n      <td>-81.373012</td>\n      <td>33870</td>\n    </tr>\n    <tr>\n      <th>49995</th>\n      <td>F</td>\n      <td>18-24</td>\n      <td>married</td>\n      <td>412b973788704c36a008a506cdbba033</td>\n      <td>iOS</td>\n      <td>1396309720</td>\n      <td>35.0</td>\n      <td>45.343615</td>\n      <td>West Linn</td>\n      <td>OR</td>\n      <td>-122.664926</td>\n      <td>97068</td>\n    </tr>\n    <tr>\n      <th>49998</th>\n      <td>F</td>\n      <td>35-44</td>\n      <td>married</td>\n      <td>2df6b9a0c66b48a389330327517b9276</td>\n      <td>iOS</td>\n      <td>1396309968</td>\n      <td>37.0</td>\n      <td>39.477625</td>\n      <td>Martinsville</td>\n      <td>IN</td>\n      <td>-86.466792</td>\n      <td>46151</td>\n    </tr>\n  </tbody>\n</table>\n<p>20079 rows × 12 columns</p>\n</div>"
     },
     "metadata": {},
     "execution_count": 9
    }
   ],
   "source": [
    "locdf = locdf.set_index(df.index)\n",
    "df = df.join(locdf, on=df.index)\n",
    "df = df.drop(columns=['location'])\n",
    "df"
   ]
  },
  {
   "source": [
    "We can safely infer that the interest of a user in the categories of our project will be directly related to the number of times the user shows up in this dataset.\n",
    "\n",
    "We can now introduce an additional column to our dataset which will show us \"measure of interest\" a particular user has in the the categories of our product. We will call it frequency, and it will represent the number of times a particular entry has been made in our dataset\n",
    "\n",
    "Initially, the frequency will be set to 1 in each row of our data, because each row represents one viewing or funding done by a user. This will also help us when we group the data (as we shall see)"
   ],
   "cell_type": "markdown",
   "metadata": {}
  },
  {
   "cell_type": "code",
   "execution_count": 10,
   "metadata": {},
   "outputs": [
    {
     "output_type": "execute_result",
     "data": {
      "text/plain": "      gender    age marital_status                        session_id   device  \\\n0          M  18-24        married  69f62d2ae87640f5a2dde2b2e9229fe6  android   \n2          M    55+         single  0db9ed700a184d48a9d04806696e3642      iOS   \n4          F  25-34        married  9508a8385dc94773baba8aa7d1c2aa75      iOS   \n12         F  18-24        married  a1fdfe0bebed4510a9059bcfb3ba1325      iOS   \n16         M  18-24        married  69f62d2ae87640f5a2dde2b2e9229fe6  android   \n...      ...    ...            ...                               ...      ...   \n49984      M  18-24        married  584713f5385a4ce2b881e877f1fa9a80  android   \n49989      M  18-24         single  4829aa471c6b431fa023076746f7476f      iOS   \n49994      F  35-44         single  dbe304febcd94d768740237f37e918cd  android   \n49995      F  18-24        married  412b973788704c36a008a506cdbba033      iOS   \n49998      F  35-44        married  2df6b9a0c66b48a389330327517b9276      iOS   \n\n       client_time  amount   latitude          city state   longitude  \\\n0       1393632004     0.0  40.189788         Lyons    CO -105.355280   \n2       1393632032     0.0  42.446396      Westford    MA  -71.459405   \n4       1393632051     0.0  36.747083         Lampe    MO  -93.458626   \n12      1393632171     0.0  33.794055       Atlanta    GA  -84.377326   \n16      1393632200    31.0  40.189788         Lyons    CO -105.355280   \n...            ...     ...        ...           ...   ...         ...   \n49984   1396308722    23.0  33.760505       Atlanta    GA  -84.399626   \n49989   1396309022    37.0  39.872535   Westminster    CO -105.034487   \n49994   1396309700    35.0  27.457947       Sebring    FL  -81.373012   \n49995   1396309720    35.0  45.343615     West Linn    OR -122.664926   \n49998   1396309968    37.0  39.477625  Martinsville    IN  -86.466792   \n\n      zip_code  frequency  \n0        80540          1  \n2        01886          1  \n4        65681          1  \n12       30308          1  \n16       80540          1  \n...        ...        ...  \n49984    30313          1  \n49989    80030          1  \n49994    33870          1  \n49995    97068          1  \n49998    46151          1  \n\n[20079 rows x 13 columns]",
      "text/html": "<div>\n<style scoped>\n    .dataframe tbody tr th:only-of-type {\n        vertical-align: middle;\n    }\n\n    .dataframe tbody tr th {\n        vertical-align: top;\n    }\n\n    .dataframe thead th {\n        text-align: right;\n    }\n</style>\n<table border=\"1\" class=\"dataframe\">\n  <thead>\n    <tr style=\"text-align: right;\">\n      <th></th>\n      <th>gender</th>\n      <th>age</th>\n      <th>marital_status</th>\n      <th>session_id</th>\n      <th>device</th>\n      <th>client_time</th>\n      <th>amount</th>\n      <th>latitude</th>\n      <th>city</th>\n      <th>state</th>\n      <th>longitude</th>\n      <th>zip_code</th>\n      <th>frequency</th>\n    </tr>\n  </thead>\n  <tbody>\n    <tr>\n      <th>0</th>\n      <td>M</td>\n      <td>18-24</td>\n      <td>married</td>\n      <td>69f62d2ae87640f5a2dde2b2e9229fe6</td>\n      <td>android</td>\n      <td>1393632004</td>\n      <td>0.0</td>\n      <td>40.189788</td>\n      <td>Lyons</td>\n      <td>CO</td>\n      <td>-105.355280</td>\n      <td>80540</td>\n      <td>1</td>\n    </tr>\n    <tr>\n      <th>2</th>\n      <td>M</td>\n      <td>55+</td>\n      <td>single</td>\n      <td>0db9ed700a184d48a9d04806696e3642</td>\n      <td>iOS</td>\n      <td>1393632032</td>\n      <td>0.0</td>\n      <td>42.446396</td>\n      <td>Westford</td>\n      <td>MA</td>\n      <td>-71.459405</td>\n      <td>01886</td>\n      <td>1</td>\n    </tr>\n    <tr>\n      <th>4</th>\n      <td>F</td>\n      <td>25-34</td>\n      <td>married</td>\n      <td>9508a8385dc94773baba8aa7d1c2aa75</td>\n      <td>iOS</td>\n      <td>1393632051</td>\n      <td>0.0</td>\n      <td>36.747083</td>\n      <td>Lampe</td>\n      <td>MO</td>\n      <td>-93.458626</td>\n      <td>65681</td>\n      <td>1</td>\n    </tr>\n    <tr>\n      <th>12</th>\n      <td>F</td>\n      <td>18-24</td>\n      <td>married</td>\n      <td>a1fdfe0bebed4510a9059bcfb3ba1325</td>\n      <td>iOS</td>\n      <td>1393632171</td>\n      <td>0.0</td>\n      <td>33.794055</td>\n      <td>Atlanta</td>\n      <td>GA</td>\n      <td>-84.377326</td>\n      <td>30308</td>\n      <td>1</td>\n    </tr>\n    <tr>\n      <th>16</th>\n      <td>M</td>\n      <td>18-24</td>\n      <td>married</td>\n      <td>69f62d2ae87640f5a2dde2b2e9229fe6</td>\n      <td>android</td>\n      <td>1393632200</td>\n      <td>31.0</td>\n      <td>40.189788</td>\n      <td>Lyons</td>\n      <td>CO</td>\n      <td>-105.355280</td>\n      <td>80540</td>\n      <td>1</td>\n    </tr>\n    <tr>\n      <th>...</th>\n      <td>...</td>\n      <td>...</td>\n      <td>...</td>\n      <td>...</td>\n      <td>...</td>\n      <td>...</td>\n      <td>...</td>\n      <td>...</td>\n      <td>...</td>\n      <td>...</td>\n      <td>...</td>\n      <td>...</td>\n      <td>...</td>\n    </tr>\n    <tr>\n      <th>49984</th>\n      <td>M</td>\n      <td>18-24</td>\n      <td>married</td>\n      <td>584713f5385a4ce2b881e877f1fa9a80</td>\n      <td>android</td>\n      <td>1396308722</td>\n      <td>23.0</td>\n      <td>33.760505</td>\n      <td>Atlanta</td>\n      <td>GA</td>\n      <td>-84.399626</td>\n      <td>30313</td>\n      <td>1</td>\n    </tr>\n    <tr>\n      <th>49989</th>\n      <td>M</td>\n      <td>18-24</td>\n      <td>single</td>\n      <td>4829aa471c6b431fa023076746f7476f</td>\n      <td>iOS</td>\n      <td>1396309022</td>\n      <td>37.0</td>\n      <td>39.872535</td>\n      <td>Westminster</td>\n      <td>CO</td>\n      <td>-105.034487</td>\n      <td>80030</td>\n      <td>1</td>\n    </tr>\n    <tr>\n      <th>49994</th>\n      <td>F</td>\n      <td>35-44</td>\n      <td>single</td>\n      <td>dbe304febcd94d768740237f37e918cd</td>\n      <td>android</td>\n      <td>1396309700</td>\n      <td>35.0</td>\n      <td>27.457947</td>\n      <td>Sebring</td>\n      <td>FL</td>\n      <td>-81.373012</td>\n      <td>33870</td>\n      <td>1</td>\n    </tr>\n    <tr>\n      <th>49995</th>\n      <td>F</td>\n      <td>18-24</td>\n      <td>married</td>\n      <td>412b973788704c36a008a506cdbba033</td>\n      <td>iOS</td>\n      <td>1396309720</td>\n      <td>35.0</td>\n      <td>45.343615</td>\n      <td>West Linn</td>\n      <td>OR</td>\n      <td>-122.664926</td>\n      <td>97068</td>\n      <td>1</td>\n    </tr>\n    <tr>\n      <th>49998</th>\n      <td>F</td>\n      <td>35-44</td>\n      <td>married</td>\n      <td>2df6b9a0c66b48a389330327517b9276</td>\n      <td>iOS</td>\n      <td>1396309968</td>\n      <td>37.0</td>\n      <td>39.477625</td>\n      <td>Martinsville</td>\n      <td>IN</td>\n      <td>-86.466792</td>\n      <td>46151</td>\n      <td>1</td>\n    </tr>\n  </tbody>\n</table>\n<p>20079 rows × 13 columns</p>\n</div>"
     },
     "metadata": {},
     "execution_count": 10
    }
   ],
   "source": [
    "df['frequency'] = 1\n",
    "df"
   ]
  },
  {
   "source": [
    "Now we can eliminate further redundancies by grouping all data points (rows) with the same user.\n",
    "\n",
    "We could not do this before because the number of times a person shows up in our dataset tells us something about his or her interest in projects of this category, but now we are keeping track of the same using the frequency column, so we can get rid of the client_time column and start grouping the data.\n",
    "\n",
    "Note: We will be taking the sum of the frequencies as well as the amount. Since this way we will keep track of the total amount spent by a user in funding projects similar to ours. \n"
   ],
   "cell_type": "markdown",
   "metadata": {}
  },
  {
   "cell_type": "code",
   "execution_count": 11,
   "metadata": {},
   "outputs": [],
   "source": [
    "df = df.drop(columns=['client_time'])"
   ]
  },
  {
   "source": [
    "We should first see whether there are any sessions with different data in other column."
   ],
   "cell_type": "markdown",
   "metadata": {}
  },
  {
   "cell_type": "code",
   "execution_count": 12,
   "metadata": {},
   "outputs": [
    {
     "output_type": "execute_result",
     "data": {
      "text/plain": "(8276, 7118)"
     },
     "metadata": {},
     "execution_count": 12
    }
   ],
   "source": [
    "temp_df_1 = df.groupby(['session_id', 'age', 'marital_status', 'device', 'gender', 'latitude', 'longitude'], as_index=False)\n",
    "temp_df_2 = df.groupby(['session_id'], as_index=False)\n",
    "len(temp_df_1), len(temp_df_2)\n",
    "#.agg({'frequency': 'sum', 'amount': 'sum', 'city': 'first', 'state': 'first'})"
   ]
  },
  {
   "source": [
    "From the above cell, we can conclude that there are around (8276-7118) cells which have the same session_id but at least one different value in some other column.\n",
    "They could be differing in age or gender etc. So it's best to treat these as different users filling our survey from the same device. For example, a person and his family can use the same desktop to fill out forms.\n",
    "\n",
    "So we will group by all values that should be same for one user, instead of just the session_id *"
   ],
   "cell_type": "markdown",
   "metadata": {}
  },
  {
   "cell_type": "code",
   "execution_count": 13,
   "metadata": {},
   "outputs": [
    {
     "output_type": "execute_result",
     "data": {
      "text/plain": "                            session_id    age marital_status   device gender  \\\n0     000716c0e76a41508feb786d202748e7  35-44         single      iOS      M   \n1     000716c0e76a41508feb786d202748e7  35-44         single      iOS      U   \n2     000e13dfa71146e192060542cda8721d  18-24         single  android      F   \n3     0018be2c216249469b0f04f51ca9bc0a  25-34        married  android      M   \n4     002a9c51650d47f281518d91717c8d31  25-34        married      iOS      F   \n...                                ...    ...            ...      ...    ...   \n8271  ffc1fdad55a94e9bab68c720621f1f9e  35-44        married      iOS      F   \n8272  ffcb41d4b1184ccaa9f6a3f5ba85fc83  18-24        married      iOS      F   \n8273  ffd481352bc54b47a613ec2440b38203  25-34        married      iOS      F   \n8274  ffdff9e658e245a1b13540b04ca13f5a  45-54        married      iOS      M   \n8275  fff2dc58df814daf8cd28cc28a67dbae  35-44        married      iOS      M   \n\n       latitude   longitude         city state zip_code  frequency  amount  \n0     31.711209 -106.243004      El Paso    TX    79936          3    37.0  \n1     31.711209 -106.243004      El Paso    TX    79936          1     0.0  \n2     33.794055  -84.377326      Atlanta    GA    30308          2    29.0  \n3     44.955615  -93.167020   Saint Paul    MN    55104          2     0.0  \n4     40.354088  -86.118782  Sharpsville    IN    46068          2    33.0  \n...         ...         ...          ...   ...      ...        ...     ...  \n8271  40.045073  -87.175046    Hillsboro    IN    47949          3    41.0  \n8272  45.455090 -122.696724     Portland    OR    97219          1     0.0  \n8273  32.856632  -86.652875      Clanton    AL    35045          2    16.0  \n8274  39.470986  -87.411070  Terre Haute    IN    47809          2    43.0  \n8275  40.951589  -85.854151        Roann    IN    46974          1     0.0  \n\n[8276 rows x 12 columns]",
      "text/html": "<div>\n<style scoped>\n    .dataframe tbody tr th:only-of-type {\n        vertical-align: middle;\n    }\n\n    .dataframe tbody tr th {\n        vertical-align: top;\n    }\n\n    .dataframe thead th {\n        text-align: right;\n    }\n</style>\n<table border=\"1\" class=\"dataframe\">\n  <thead>\n    <tr style=\"text-align: right;\">\n      <th></th>\n      <th>session_id</th>\n      <th>age</th>\n      <th>marital_status</th>\n      <th>device</th>\n      <th>gender</th>\n      <th>latitude</th>\n      <th>longitude</th>\n      <th>city</th>\n      <th>state</th>\n      <th>zip_code</th>\n      <th>frequency</th>\n      <th>amount</th>\n    </tr>\n  </thead>\n  <tbody>\n    <tr>\n      <th>0</th>\n      <td>000716c0e76a41508feb786d202748e7</td>\n      <td>35-44</td>\n      <td>single</td>\n      <td>iOS</td>\n      <td>M</td>\n      <td>31.711209</td>\n      <td>-106.243004</td>\n      <td>El Paso</td>\n      <td>TX</td>\n      <td>79936</td>\n      <td>3</td>\n      <td>37.0</td>\n    </tr>\n    <tr>\n      <th>1</th>\n      <td>000716c0e76a41508feb786d202748e7</td>\n      <td>35-44</td>\n      <td>single</td>\n      <td>iOS</td>\n      <td>U</td>\n      <td>31.711209</td>\n      <td>-106.243004</td>\n      <td>El Paso</td>\n      <td>TX</td>\n      <td>79936</td>\n      <td>1</td>\n      <td>0.0</td>\n    </tr>\n    <tr>\n      <th>2</th>\n      <td>000e13dfa71146e192060542cda8721d</td>\n      <td>18-24</td>\n      <td>single</td>\n      <td>android</td>\n      <td>F</td>\n      <td>33.794055</td>\n      <td>-84.377326</td>\n      <td>Atlanta</td>\n      <td>GA</td>\n      <td>30308</td>\n      <td>2</td>\n      <td>29.0</td>\n    </tr>\n    <tr>\n      <th>3</th>\n      <td>0018be2c216249469b0f04f51ca9bc0a</td>\n      <td>25-34</td>\n      <td>married</td>\n      <td>android</td>\n      <td>M</td>\n      <td>44.955615</td>\n      <td>-93.167020</td>\n      <td>Saint Paul</td>\n      <td>MN</td>\n      <td>55104</td>\n      <td>2</td>\n      <td>0.0</td>\n    </tr>\n    <tr>\n      <th>4</th>\n      <td>002a9c51650d47f281518d91717c8d31</td>\n      <td>25-34</td>\n      <td>married</td>\n      <td>iOS</td>\n      <td>F</td>\n      <td>40.354088</td>\n      <td>-86.118782</td>\n      <td>Sharpsville</td>\n      <td>IN</td>\n      <td>46068</td>\n      <td>2</td>\n      <td>33.0</td>\n    </tr>\n    <tr>\n      <th>...</th>\n      <td>...</td>\n      <td>...</td>\n      <td>...</td>\n      <td>...</td>\n      <td>...</td>\n      <td>...</td>\n      <td>...</td>\n      <td>...</td>\n      <td>...</td>\n      <td>...</td>\n      <td>...</td>\n      <td>...</td>\n    </tr>\n    <tr>\n      <th>8271</th>\n      <td>ffc1fdad55a94e9bab68c720621f1f9e</td>\n      <td>35-44</td>\n      <td>married</td>\n      <td>iOS</td>\n      <td>F</td>\n      <td>40.045073</td>\n      <td>-87.175046</td>\n      <td>Hillsboro</td>\n      <td>IN</td>\n      <td>47949</td>\n      <td>3</td>\n      <td>41.0</td>\n    </tr>\n    <tr>\n      <th>8272</th>\n      <td>ffcb41d4b1184ccaa9f6a3f5ba85fc83</td>\n      <td>18-24</td>\n      <td>married</td>\n      <td>iOS</td>\n      <td>F</td>\n      <td>45.455090</td>\n      <td>-122.696724</td>\n      <td>Portland</td>\n      <td>OR</td>\n      <td>97219</td>\n      <td>1</td>\n      <td>0.0</td>\n    </tr>\n    <tr>\n      <th>8273</th>\n      <td>ffd481352bc54b47a613ec2440b38203</td>\n      <td>25-34</td>\n      <td>married</td>\n      <td>iOS</td>\n      <td>F</td>\n      <td>32.856632</td>\n      <td>-86.652875</td>\n      <td>Clanton</td>\n      <td>AL</td>\n      <td>35045</td>\n      <td>2</td>\n      <td>16.0</td>\n    </tr>\n    <tr>\n      <th>8274</th>\n      <td>ffdff9e658e245a1b13540b04ca13f5a</td>\n      <td>45-54</td>\n      <td>married</td>\n      <td>iOS</td>\n      <td>M</td>\n      <td>39.470986</td>\n      <td>-87.411070</td>\n      <td>Terre Haute</td>\n      <td>IN</td>\n      <td>47809</td>\n      <td>2</td>\n      <td>43.0</td>\n    </tr>\n    <tr>\n      <th>8275</th>\n      <td>fff2dc58df814daf8cd28cc28a67dbae</td>\n      <td>35-44</td>\n      <td>married</td>\n      <td>iOS</td>\n      <td>M</td>\n      <td>40.951589</td>\n      <td>-85.854151</td>\n      <td>Roann</td>\n      <td>IN</td>\n      <td>46974</td>\n      <td>1</td>\n      <td>0.0</td>\n    </tr>\n  </tbody>\n</table>\n<p>8276 rows × 12 columns</p>\n</div>"
     },
     "metadata": {},
     "execution_count": 13
    }
   ],
   "source": [
    "df = df.groupby(['session_id', 'age', 'marital_status', 'device', 'gender', 'latitude', 'longitude', 'city', 'state', 'zip_code'], as_index=False).agg({'frequency': 'sum', 'amount': 'sum'})\n",
    "\n",
    "df"
   ]
  },
  {
   "source": [
    "We have now reduced the data to just 8.3k rows!\n",
    "\n",
    "\\* We can see that there are different users that have used the same session_id in the table above. For example, the very first two rows have the same session_id but different genders. (session_id = 000716c0e76a41508feb786d202748e7)\n",
    "\n",
    "Since we need \\$20 of funding for our project, we should use that as a threshold. Meaning, people who have funded a total amount more than \\$20 are willing to spend that amount to fund various projects, which may include ours.\n",
    "\n",
    "Note: Having grouped the data by users, we gained an advantage. Now we can easily check if a person has donated over \\$20 in total or not. His/Her \\$20 may or may not be on one single project, but that's a different story."
   ],
   "cell_type": "markdown",
   "metadata": {}
  },
  {
   "cell_type": "code",
   "execution_count": 14,
   "metadata": {},
   "outputs": [
    {
     "output_type": "execute_result",
     "data": {
      "text/plain": "                            session_id    age marital_status   device gender  \\\n0     000716c0e76a41508feb786d202748e7  35-44         single      iOS      M   \n2     000e13dfa71146e192060542cda8721d  18-24         single  android      F   \n4     002a9c51650d47f281518d91717c8d31  25-34        married      iOS      F   \n5     003368a440394561a4e34a09a738e29f  18-24        married  android      M   \n8     0045a427d12945e8863ce57d5e6ee049  18-24        married  android      F   \n...                                ...    ...            ...      ...    ...   \n8268  ff9e86d093fd46dd83492b8e552537a3  45-54        married  android      U   \n8269  ffb0c38864ee40beb05f094f44a43e32  18-24        married  android      M   \n8270  ffbc07891604406b952dc99158c25240    55+        married      iOS      F   \n8271  ffc1fdad55a94e9bab68c720621f1f9e  35-44        married      iOS      F   \n8274  ffdff9e658e245a1b13540b04ca13f5a  45-54        married      iOS      M   \n\n       latitude   longitude         city state zip_code  frequency  amount  \n0     31.711209 -106.243004      El Paso    TX    79936          3    37.0  \n2     33.794055  -84.377326      Atlanta    GA    30308          2    29.0  \n4     40.354088  -86.118782  Sharpsville    IN    46068          2    33.0  \n5     40.427541 -105.383062        Drake    CO    80515          4    48.0  \n8     33.563121 -102.026405    Wolfforth    TX    79382          8   195.0  \n...         ...         ...          ...   ...      ...        ...     ...  \n8268  41.707918  -81.199030  Painesville    OH    44077          2    37.0  \n8269  40.370748 -105.323971   Estes Park    CO    80517          2    26.0  \n8270  44.867809  -91.943198    Menomonie    WI    54751          3    59.0  \n8271  40.045073  -87.175046    Hillsboro    IN    47949          3    41.0  \n8274  39.470986  -87.411070  Terre Haute    IN    47809          2    43.0  \n\n[5291 rows x 12 columns]",
      "text/html": "<div>\n<style scoped>\n    .dataframe tbody tr th:only-of-type {\n        vertical-align: middle;\n    }\n\n    .dataframe tbody tr th {\n        vertical-align: top;\n    }\n\n    .dataframe thead th {\n        text-align: right;\n    }\n</style>\n<table border=\"1\" class=\"dataframe\">\n  <thead>\n    <tr style=\"text-align: right;\">\n      <th></th>\n      <th>session_id</th>\n      <th>age</th>\n      <th>marital_status</th>\n      <th>device</th>\n      <th>gender</th>\n      <th>latitude</th>\n      <th>longitude</th>\n      <th>city</th>\n      <th>state</th>\n      <th>zip_code</th>\n      <th>frequency</th>\n      <th>amount</th>\n    </tr>\n  </thead>\n  <tbody>\n    <tr>\n      <th>0</th>\n      <td>000716c0e76a41508feb786d202748e7</td>\n      <td>35-44</td>\n      <td>single</td>\n      <td>iOS</td>\n      <td>M</td>\n      <td>31.711209</td>\n      <td>-106.243004</td>\n      <td>El Paso</td>\n      <td>TX</td>\n      <td>79936</td>\n      <td>3</td>\n      <td>37.0</td>\n    </tr>\n    <tr>\n      <th>2</th>\n      <td>000e13dfa71146e192060542cda8721d</td>\n      <td>18-24</td>\n      <td>single</td>\n      <td>android</td>\n      <td>F</td>\n      <td>33.794055</td>\n      <td>-84.377326</td>\n      <td>Atlanta</td>\n      <td>GA</td>\n      <td>30308</td>\n      <td>2</td>\n      <td>29.0</td>\n    </tr>\n    <tr>\n      <th>4</th>\n      <td>002a9c51650d47f281518d91717c8d31</td>\n      <td>25-34</td>\n      <td>married</td>\n      <td>iOS</td>\n      <td>F</td>\n      <td>40.354088</td>\n      <td>-86.118782</td>\n      <td>Sharpsville</td>\n      <td>IN</td>\n      <td>46068</td>\n      <td>2</td>\n      <td>33.0</td>\n    </tr>\n    <tr>\n      <th>5</th>\n      <td>003368a440394561a4e34a09a738e29f</td>\n      <td>18-24</td>\n      <td>married</td>\n      <td>android</td>\n      <td>M</td>\n      <td>40.427541</td>\n      <td>-105.383062</td>\n      <td>Drake</td>\n      <td>CO</td>\n      <td>80515</td>\n      <td>4</td>\n      <td>48.0</td>\n    </tr>\n    <tr>\n      <th>8</th>\n      <td>0045a427d12945e8863ce57d5e6ee049</td>\n      <td>18-24</td>\n      <td>married</td>\n      <td>android</td>\n      <td>F</td>\n      <td>33.563121</td>\n      <td>-102.026405</td>\n      <td>Wolfforth</td>\n      <td>TX</td>\n      <td>79382</td>\n      <td>8</td>\n      <td>195.0</td>\n    </tr>\n    <tr>\n      <th>...</th>\n      <td>...</td>\n      <td>...</td>\n      <td>...</td>\n      <td>...</td>\n      <td>...</td>\n      <td>...</td>\n      <td>...</td>\n      <td>...</td>\n      <td>...</td>\n      <td>...</td>\n      <td>...</td>\n      <td>...</td>\n    </tr>\n    <tr>\n      <th>8268</th>\n      <td>ff9e86d093fd46dd83492b8e552537a3</td>\n      <td>45-54</td>\n      <td>married</td>\n      <td>android</td>\n      <td>U</td>\n      <td>41.707918</td>\n      <td>-81.199030</td>\n      <td>Painesville</td>\n      <td>OH</td>\n      <td>44077</td>\n      <td>2</td>\n      <td>37.0</td>\n    </tr>\n    <tr>\n      <th>8269</th>\n      <td>ffb0c38864ee40beb05f094f44a43e32</td>\n      <td>18-24</td>\n      <td>married</td>\n      <td>android</td>\n      <td>M</td>\n      <td>40.370748</td>\n      <td>-105.323971</td>\n      <td>Estes Park</td>\n      <td>CO</td>\n      <td>80517</td>\n      <td>2</td>\n      <td>26.0</td>\n    </tr>\n    <tr>\n      <th>8270</th>\n      <td>ffbc07891604406b952dc99158c25240</td>\n      <td>55+</td>\n      <td>married</td>\n      <td>iOS</td>\n      <td>F</td>\n      <td>44.867809</td>\n      <td>-91.943198</td>\n      <td>Menomonie</td>\n      <td>WI</td>\n      <td>54751</td>\n      <td>3</td>\n      <td>59.0</td>\n    </tr>\n    <tr>\n      <th>8271</th>\n      <td>ffc1fdad55a94e9bab68c720621f1f9e</td>\n      <td>35-44</td>\n      <td>married</td>\n      <td>iOS</td>\n      <td>F</td>\n      <td>40.045073</td>\n      <td>-87.175046</td>\n      <td>Hillsboro</td>\n      <td>IN</td>\n      <td>47949</td>\n      <td>3</td>\n      <td>41.0</td>\n    </tr>\n    <tr>\n      <th>8274</th>\n      <td>ffdff9e658e245a1b13540b04ca13f5a</td>\n      <td>45-54</td>\n      <td>married</td>\n      <td>iOS</td>\n      <td>M</td>\n      <td>39.470986</td>\n      <td>-87.411070</td>\n      <td>Terre Haute</td>\n      <td>IN</td>\n      <td>47809</td>\n      <td>2</td>\n      <td>43.0</td>\n    </tr>\n  </tbody>\n</table>\n<p>5291 rows × 12 columns</p>\n</div>"
     },
     "metadata": {},
     "execution_count": 14
    }
   ],
   "source": [
    "df = df[df['amount']>20]\n",
    "df"
   ]
  },
  {
   "source": [
    "We now arrive at a staggering 5.2k rows, having reduced our original dataset by almost 90% we can now move on to visualize our data.\n",
    "\n",
    "Before that however, it's good to sort the data. The obvious key for sorting will be the total amount given by a user in funding."
   ],
   "cell_type": "markdown",
   "metadata": {}
  },
  {
   "cell_type": "code",
   "execution_count": 15,
   "metadata": {},
   "outputs": [
    {
     "output_type": "execute_result",
     "data": {
      "text/plain": "                            session_id    age marital_status   device gender  \\\n3458  6b625dff333d480d9396cdc74f3c7275    55+        married      iOS      M   \n4139  7f9c6efbf9964e8095772961442dd2d7  18-24         single  android      M   \n1898  3ab197e44fc24289a08572bba665f702  35-44         single  android      F   \n4581  8c9a458eafe7490eb7c3657d15e5fc10  18-24        married      iOS      F   \n7131  db3131b5dce54211969002b2f554698b  18-24        married      iOS      F   \n...                                ...    ...            ...      ...    ...   \n7113  da9516dea6404af19e076f27c31007ae  45-54        married      iOS      U   \n7148  dbe35288e8b74ece90d917648f80c514  18-24         single  android      U   \n2026  3ed17d8ca68945e481112220b31f8439  25-34        married      iOS      U   \n8011  f742ea750aeb4b13b4126ce956b5b5af  18-24         single  android      F   \n4170  80732222e1484fe3a0589725c8f8e5d3  18-24         single      iOS      M   \n\n       latitude   longitude         city state zip_code  frequency  amount  \n3458  40.614660  -86.106432        Miami    IN    46959         13   345.0  \n4139  45.408374 -122.691388  Lake Oswego    OR    97034         13   281.0  \n1898  33.829743  -84.381529      Atlanta    GA    30312         11   280.0  \n4581  33.792005  -84.442778      Atlanta    GA    30318         11   273.0  \n7131  39.815990 -105.475322   Black Hawk    CO    80422         12   271.0  \n...         ...         ...          ...   ...      ...        ...     ...  \n7113  40.271322  -79.251145     Ligonier    PA    15658          1    21.0  \n7148  33.794055  -84.377326      Atlanta    GA    30308          1    21.0  \n2026  40.754782  -86.934599     Chalmers    IN    47929          1    21.0  \n8011  33.794055  -84.377326      Atlanta    GA    30308          2    21.0  \n4170  33.844371  -84.474050   Alpharetta    GA    30009          2    21.0  \n\n[5291 rows x 12 columns]",
      "text/html": "<div>\n<style scoped>\n    .dataframe tbody tr th:only-of-type {\n        vertical-align: middle;\n    }\n\n    .dataframe tbody tr th {\n        vertical-align: top;\n    }\n\n    .dataframe thead th {\n        text-align: right;\n    }\n</style>\n<table border=\"1\" class=\"dataframe\">\n  <thead>\n    <tr style=\"text-align: right;\">\n      <th></th>\n      <th>session_id</th>\n      <th>age</th>\n      <th>marital_status</th>\n      <th>device</th>\n      <th>gender</th>\n      <th>latitude</th>\n      <th>longitude</th>\n      <th>city</th>\n      <th>state</th>\n      <th>zip_code</th>\n      <th>frequency</th>\n      <th>amount</th>\n    </tr>\n  </thead>\n  <tbody>\n    <tr>\n      <th>3458</th>\n      <td>6b625dff333d480d9396cdc74f3c7275</td>\n      <td>55+</td>\n      <td>married</td>\n      <td>iOS</td>\n      <td>M</td>\n      <td>40.614660</td>\n      <td>-86.106432</td>\n      <td>Miami</td>\n      <td>IN</td>\n      <td>46959</td>\n      <td>13</td>\n      <td>345.0</td>\n    </tr>\n    <tr>\n      <th>4139</th>\n      <td>7f9c6efbf9964e8095772961442dd2d7</td>\n      <td>18-24</td>\n      <td>single</td>\n      <td>android</td>\n      <td>M</td>\n      <td>45.408374</td>\n      <td>-122.691388</td>\n      <td>Lake Oswego</td>\n      <td>OR</td>\n      <td>97034</td>\n      <td>13</td>\n      <td>281.0</td>\n    </tr>\n    <tr>\n      <th>1898</th>\n      <td>3ab197e44fc24289a08572bba665f702</td>\n      <td>35-44</td>\n      <td>single</td>\n      <td>android</td>\n      <td>F</td>\n      <td>33.829743</td>\n      <td>-84.381529</td>\n      <td>Atlanta</td>\n      <td>GA</td>\n      <td>30312</td>\n      <td>11</td>\n      <td>280.0</td>\n    </tr>\n    <tr>\n      <th>4581</th>\n      <td>8c9a458eafe7490eb7c3657d15e5fc10</td>\n      <td>18-24</td>\n      <td>married</td>\n      <td>iOS</td>\n      <td>F</td>\n      <td>33.792005</td>\n      <td>-84.442778</td>\n      <td>Atlanta</td>\n      <td>GA</td>\n      <td>30318</td>\n      <td>11</td>\n      <td>273.0</td>\n    </tr>\n    <tr>\n      <th>7131</th>\n      <td>db3131b5dce54211969002b2f554698b</td>\n      <td>18-24</td>\n      <td>married</td>\n      <td>iOS</td>\n      <td>F</td>\n      <td>39.815990</td>\n      <td>-105.475322</td>\n      <td>Black Hawk</td>\n      <td>CO</td>\n      <td>80422</td>\n      <td>12</td>\n      <td>271.0</td>\n    </tr>\n    <tr>\n      <th>...</th>\n      <td>...</td>\n      <td>...</td>\n      <td>...</td>\n      <td>...</td>\n      <td>...</td>\n      <td>...</td>\n      <td>...</td>\n      <td>...</td>\n      <td>...</td>\n      <td>...</td>\n      <td>...</td>\n      <td>...</td>\n    </tr>\n    <tr>\n      <th>7113</th>\n      <td>da9516dea6404af19e076f27c31007ae</td>\n      <td>45-54</td>\n      <td>married</td>\n      <td>iOS</td>\n      <td>U</td>\n      <td>40.271322</td>\n      <td>-79.251145</td>\n      <td>Ligonier</td>\n      <td>PA</td>\n      <td>15658</td>\n      <td>1</td>\n      <td>21.0</td>\n    </tr>\n    <tr>\n      <th>7148</th>\n      <td>dbe35288e8b74ece90d917648f80c514</td>\n      <td>18-24</td>\n      <td>single</td>\n      <td>android</td>\n      <td>U</td>\n      <td>33.794055</td>\n      <td>-84.377326</td>\n      <td>Atlanta</td>\n      <td>GA</td>\n      <td>30308</td>\n      <td>1</td>\n      <td>21.0</td>\n    </tr>\n    <tr>\n      <th>2026</th>\n      <td>3ed17d8ca68945e481112220b31f8439</td>\n      <td>25-34</td>\n      <td>married</td>\n      <td>iOS</td>\n      <td>U</td>\n      <td>40.754782</td>\n      <td>-86.934599</td>\n      <td>Chalmers</td>\n      <td>IN</td>\n      <td>47929</td>\n      <td>1</td>\n      <td>21.0</td>\n    </tr>\n    <tr>\n      <th>8011</th>\n      <td>f742ea750aeb4b13b4126ce956b5b5af</td>\n      <td>18-24</td>\n      <td>single</td>\n      <td>android</td>\n      <td>F</td>\n      <td>33.794055</td>\n      <td>-84.377326</td>\n      <td>Atlanta</td>\n      <td>GA</td>\n      <td>30308</td>\n      <td>2</td>\n      <td>21.0</td>\n    </tr>\n    <tr>\n      <th>4170</th>\n      <td>80732222e1484fe3a0589725c8f8e5d3</td>\n      <td>18-24</td>\n      <td>single</td>\n      <td>iOS</td>\n      <td>M</td>\n      <td>33.844371</td>\n      <td>-84.474050</td>\n      <td>Alpharetta</td>\n      <td>GA</td>\n      <td>30009</td>\n      <td>2</td>\n      <td>21.0</td>\n    </tr>\n  </tbody>\n</table>\n<p>5291 rows × 12 columns</p>\n</div>"
     },
     "metadata": {},
     "execution_count": 15
    }
   ],
   "source": [
    "df.sort_values(by=['amount'], ascending=False)"
   ]
  },
  {
   "source": [
    "The people who appear at the top of our dataframe `df` are the people who have given the highest funding to various projects. We can perform visualization on the top 500 (or 1000)"
   ],
   "cell_type": "markdown",
   "metadata": {}
  },
  {
   "cell_type": "code",
   "execution_count": 16,
   "metadata": {},
   "outputs": [
    {
     "output_type": "execute_result",
     "data": {
      "text/plain": "                            session_id    age marital_status   device gender  \\\n3458  6b625dff333d480d9396cdc74f3c7275    55+        married      iOS      M   \n4139  7f9c6efbf9964e8095772961442dd2d7  18-24         single  android      M   \n1898  3ab197e44fc24289a08572bba665f702  35-44         single  android      F   \n4581  8c9a458eafe7490eb7c3657d15e5fc10  18-24        married      iOS      F   \n7131  db3131b5dce54211969002b2f554698b  18-24        married      iOS      F   \n...                                ...    ...            ...      ...    ...   \n4460  886b1f7ae0fe417f9efb8e5e8655185f  18-24         single  android      F   \n6524  c7ba6a60842a4f82a7d2a8e337ddbd6f    55+         single  android      M   \n4371  85be6d897b1a43c396d48120bc8c973c    55+         single  android      M   \n6805  d069ee720fff4ef4b3192fcb8808fd4a  35-44        married  android      M   \n2431  4afc877af793469b8aa2ba4bfdca64ae  18-24         single  android      F   \n\n       latitude   longitude         city state zip_code  frequency  amount  \n3458  40.614660  -86.106432        Miami    IN    46959         13   345.0  \n4139  45.408374 -122.691388  Lake Oswego    OR    97034         13   281.0  \n1898  33.829743  -84.381529      Atlanta    GA    30312         11   280.0  \n4581  33.792005  -84.442778      Atlanta    GA    30318         11   273.0  \n7131  39.815990 -105.475322   Black Hawk    CO    80422         12   271.0  \n...         ...         ...          ...   ...      ...        ...     ...  \n4460  33.752456  -84.392026      Atlanta    GA    30303          3   110.0  \n6524  34.025111  -80.478151      Dalzell    SC    29040          6   110.0  \n4371  29.552921  -95.666778   Sugar Land    TX    77479          3   110.0  \n6805  48.299486 -116.553968    Sandpoint    ID    83864          6   110.0  \n2431  33.724907  -84.468329      Atlanta    GA    30311          6   110.0  \n\n[500 rows x 12 columns]",
      "text/html": "<div>\n<style scoped>\n    .dataframe tbody tr th:only-of-type {\n        vertical-align: middle;\n    }\n\n    .dataframe tbody tr th {\n        vertical-align: top;\n    }\n\n    .dataframe thead th {\n        text-align: right;\n    }\n</style>\n<table border=\"1\" class=\"dataframe\">\n  <thead>\n    <tr style=\"text-align: right;\">\n      <th></th>\n      <th>session_id</th>\n      <th>age</th>\n      <th>marital_status</th>\n      <th>device</th>\n      <th>gender</th>\n      <th>latitude</th>\n      <th>longitude</th>\n      <th>city</th>\n      <th>state</th>\n      <th>zip_code</th>\n      <th>frequency</th>\n      <th>amount</th>\n    </tr>\n  </thead>\n  <tbody>\n    <tr>\n      <th>3458</th>\n      <td>6b625dff333d480d9396cdc74f3c7275</td>\n      <td>55+</td>\n      <td>married</td>\n      <td>iOS</td>\n      <td>M</td>\n      <td>40.614660</td>\n      <td>-86.106432</td>\n      <td>Miami</td>\n      <td>IN</td>\n      <td>46959</td>\n      <td>13</td>\n      <td>345.0</td>\n    </tr>\n    <tr>\n      <th>4139</th>\n      <td>7f9c6efbf9964e8095772961442dd2d7</td>\n      <td>18-24</td>\n      <td>single</td>\n      <td>android</td>\n      <td>M</td>\n      <td>45.408374</td>\n      <td>-122.691388</td>\n      <td>Lake Oswego</td>\n      <td>OR</td>\n      <td>97034</td>\n      <td>13</td>\n      <td>281.0</td>\n    </tr>\n    <tr>\n      <th>1898</th>\n      <td>3ab197e44fc24289a08572bba665f702</td>\n      <td>35-44</td>\n      <td>single</td>\n      <td>android</td>\n      <td>F</td>\n      <td>33.829743</td>\n      <td>-84.381529</td>\n      <td>Atlanta</td>\n      <td>GA</td>\n      <td>30312</td>\n      <td>11</td>\n      <td>280.0</td>\n    </tr>\n    <tr>\n      <th>4581</th>\n      <td>8c9a458eafe7490eb7c3657d15e5fc10</td>\n      <td>18-24</td>\n      <td>married</td>\n      <td>iOS</td>\n      <td>F</td>\n      <td>33.792005</td>\n      <td>-84.442778</td>\n      <td>Atlanta</td>\n      <td>GA</td>\n      <td>30318</td>\n      <td>11</td>\n      <td>273.0</td>\n    </tr>\n    <tr>\n      <th>7131</th>\n      <td>db3131b5dce54211969002b2f554698b</td>\n      <td>18-24</td>\n      <td>married</td>\n      <td>iOS</td>\n      <td>F</td>\n      <td>39.815990</td>\n      <td>-105.475322</td>\n      <td>Black Hawk</td>\n      <td>CO</td>\n      <td>80422</td>\n      <td>12</td>\n      <td>271.0</td>\n    </tr>\n    <tr>\n      <th>...</th>\n      <td>...</td>\n      <td>...</td>\n      <td>...</td>\n      <td>...</td>\n      <td>...</td>\n      <td>...</td>\n      <td>...</td>\n      <td>...</td>\n      <td>...</td>\n      <td>...</td>\n      <td>...</td>\n      <td>...</td>\n    </tr>\n    <tr>\n      <th>4460</th>\n      <td>886b1f7ae0fe417f9efb8e5e8655185f</td>\n      <td>18-24</td>\n      <td>single</td>\n      <td>android</td>\n      <td>F</td>\n      <td>33.752456</td>\n      <td>-84.392026</td>\n      <td>Atlanta</td>\n      <td>GA</td>\n      <td>30303</td>\n      <td>3</td>\n      <td>110.0</td>\n    </tr>\n    <tr>\n      <th>6524</th>\n      <td>c7ba6a60842a4f82a7d2a8e337ddbd6f</td>\n      <td>55+</td>\n      <td>single</td>\n      <td>android</td>\n      <td>M</td>\n      <td>34.025111</td>\n      <td>-80.478151</td>\n      <td>Dalzell</td>\n      <td>SC</td>\n      <td>29040</td>\n      <td>6</td>\n      <td>110.0</td>\n    </tr>\n    <tr>\n      <th>4371</th>\n      <td>85be6d897b1a43c396d48120bc8c973c</td>\n      <td>55+</td>\n      <td>single</td>\n      <td>android</td>\n      <td>M</td>\n      <td>29.552921</td>\n      <td>-95.666778</td>\n      <td>Sugar Land</td>\n      <td>TX</td>\n      <td>77479</td>\n      <td>3</td>\n      <td>110.0</td>\n    </tr>\n    <tr>\n      <th>6805</th>\n      <td>d069ee720fff4ef4b3192fcb8808fd4a</td>\n      <td>35-44</td>\n      <td>married</td>\n      <td>android</td>\n      <td>M</td>\n      <td>48.299486</td>\n      <td>-116.553968</td>\n      <td>Sandpoint</td>\n      <td>ID</td>\n      <td>83864</td>\n      <td>6</td>\n      <td>110.0</td>\n    </tr>\n    <tr>\n      <th>2431</th>\n      <td>4afc877af793469b8aa2ba4bfdca64ae</td>\n      <td>18-24</td>\n      <td>single</td>\n      <td>android</td>\n      <td>F</td>\n      <td>33.724907</td>\n      <td>-84.468329</td>\n      <td>Atlanta</td>\n      <td>GA</td>\n      <td>30311</td>\n      <td>6</td>\n      <td>110.0</td>\n    </tr>\n  </tbody>\n</table>\n<p>500 rows × 12 columns</p>\n</div>"
     },
     "metadata": {},
     "execution_count": 16
    }
   ],
   "source": [
    "VizData = df.sort_values(by=['amount'], ascending=False)[:500]\n",
    "VizData"
   ]
  },
  {
   "source": [
    "# Data Visualization:\n",
    "We are finally ready to visualize our data `VizData`"
   ],
   "cell_type": "markdown",
   "metadata": {}
  }
 ]
}